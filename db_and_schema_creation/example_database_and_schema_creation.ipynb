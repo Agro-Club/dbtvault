{
 "cells": [
  {
   "cell_type": "code",
   "execution_count": 19,
   "metadata": {},
   "outputs": [],
   "source": [
    "import pandas as pd\n",
    "import snowflake.connector as sf\n",
    "import json\n",
    "import os"
   ]
  },
  {
   "cell_type": "markdown",
   "metadata": {},
   "source": [
    "To create a database and schema to the default pattern, we'll drive it from a json config, with an addtional credentails json."
   ]
  },
  {
   "cell_type": "code",
   "execution_count": 2,
   "metadata": {},
   "outputs": [],
   "source": [
    "def json_reader(path_to_json):\n",
    "    with open(path_to_json, \"r\") as read_file:\n",
    "        dict_obj = json.load(read_file)\n",
    "    \n",
    "    return dict_obj"
   ]
  },
  {
   "cell_type": "code",
   "execution_count": 3,
   "metadata": {},
   "outputs": [],
   "source": [
    "def snowflake_connector(path_to_json_credentials):\n",
    "    \"Connects to the Snowflake database, given a json credentials file\"\n",
    "    \n",
    "    credentials = json_reader(path_to_json_credentials)\n",
    "    \n",
    "    connection = sf.connect(user=credentials[\"user\"],\n",
    "                            password=credentials[\"password\"],\n",
    "                            account=credentials[\"account_name\"],\n",
    "                            warehouse=credentials[\"warehouse\"],\n",
    "                            database=credentials[\"database\"],\n",
    "                            schema=credentials[\"schema\"])\n",
    "\n",
    "    return connection"
   ]
  },
  {
   "cell_type": "code",
   "execution_count": 24,
   "metadata": {},
   "outputs": [],
   "source": [
    "def sf_query(query_string, con):\n",
    "    con.cursor().execute(query_string)"
   ]
  },
  {
   "cell_type": "markdown",
   "metadata": {},
   "source": [
    "We want to \n",
    "1. Create a database\n",
    "2. Use the database\n",
    "3. Create schemas within\n",
    "\n",
    "We'll pull this from a config JSON which assumes that there is one databse and multiple schemas within the database"
   ]
  },
  {
   "cell_type": "code",
   "execution_count": 5,
   "metadata": {},
   "outputs": [],
   "source": [
    "config = json_reader(\"./db_creation_config.json\")"
   ]
  },
  {
   "cell_type": "markdown",
   "metadata": {},
   "source": [
    "We'll create a sql function for each schema as well as for the database. We'll also need to specify that we're using the new database on creation."
   ]
  },
  {
   "cell_type": "code",
   "execution_count": 27,
   "metadata": {},
   "outputs": [],
   "source": [
    "def whole_query(config, con):\n",
    "    \"\"\"\n",
    "    INPUTS: Configuration file of database and schema name; Connection object from sf_connector\n",
    "    OUTPUTS: none\n",
    "    COMMENTS: The method assumes one database, and multiple schemas within the database. Schema quantity is dynamic.\n",
    "    Database and schemas created and performance printed out.\n",
    "    \"\"\"\n",
    "    \n",
    "    database_name = config[\"database\"]\n",
    "    schema_list = config[\"schemas\"]\n",
    "\n",
    "    print(creation_query(database_name, entity_type = \"database\"))\n",
    "    sf_query(creation_query(database_name, entity_type = \"database\"), con)\n",
    "    print(\"success{}\".format(os.linesep))\n",
    "    \n",
    "    print(use_query(database_name))\n",
    "    sf_query(use_query(database_name), con)\n",
    "    print(\"success{}\".format(os.linesep))\n",
    "    \n",
    "    for schema in schema_list:\n",
    "        print(creation_query(schema, entity_type = \"schema\"))  \n",
    "        sf_query(creation_query(schema, entity_type = \"schema\"), con)\n",
    "        print(\"success{}\".format(os.linesep))"
   ]
  },
  {
   "cell_type": "code",
   "execution_count": 28,
   "metadata": {},
   "outputs": [],
   "source": [
    "def creation_query(entity_name, entity_type = \"schema\"):\n",
    "    \"\"\"\n",
    "    INPUTS: the name of the database or schema, and the type of the entity (assumes schema). accepts \"schema\" or \"database\" ONLY.\n",
    "    OUTPUTS: a query to create the entity if not exists\n",
    "    COMMENTS: if an entity type is mistyped, will throw an exception.\n",
    "    \"\"\"\n",
    "    \n",
    "    if entity_type != \"schema\" and entity_type != \"database\":\n",
    "        raise ValueError\n",
    "    query_string = \"CREATE {} IF NOT EXISTS {};{}\".format(entity_type.upper(), entity_name.upper(), os.linesep)\n",
    "    \n",
    "    return query_string\n",
    "\n",
    "def use_query(entity_name):\n",
    "    \"\"\"creates a use database query, given a database (entity) name.\"\"\"\n",
    "    query_string = \"USE DATABASE {};{}\".format(entity_name.upper(), os.linesep)\n",
    "    \n",
    "    return query_string"
   ]
  },
  {
   "cell_type": "code",
   "execution_count": 23,
   "metadata": {},
   "outputs": [],
   "source": [
    "con = snowflake_connector(\"./dv_demo_credentials.json\")"
   ]
  },
  {
   "cell_type": "code",
   "execution_count": 30,
   "metadata": {},
   "outputs": [
    {
     "name": "stdout",
     "output_type": "stream",
     "text": [
      "CREATE DATABASE IF NOT EXISTS DV_TEST_BUILD_DB;\n",
      "\n",
      "success\n",
      "\n",
      "USE DATABASE DV_TEST_BUILD_DB;\n",
      "\n",
      "success\n",
      "\n",
      "CREATE SCHEMA IF NOT EXISTS SRC;\n",
      "\n",
      "success\n",
      "\n",
      "CREATE SCHEMA IF NOT EXISTS STG;\n",
      "\n",
      "success\n",
      "\n",
      "CREATE SCHEMA IF NOT EXISTS VLT;\n",
      "\n",
      "success\n",
      "\n",
      "CREATE SCHEMA IF NOT EXISTS MART;\n",
      "\n",
      "success\n",
      "\n"
     ]
    }
   ],
   "source": [
    "whole_query(config, con)"
   ]
  }
 ],
 "metadata": {
  "kernelspec": {
   "display_name": "Python 3",
   "language": "python",
   "name": "python3"
  },
  "language_info": {
   "codemirror_mode": {
    "name": "ipython",
    "version": 3
   },
   "file_extension": ".py",
   "mimetype": "text/x-python",
   "name": "python",
   "nbconvert_exporter": "python",
   "pygments_lexer": "ipython3",
   "version": "3.7.3"
  }
 },
 "nbformat": 4,
 "nbformat_minor": 2
}
